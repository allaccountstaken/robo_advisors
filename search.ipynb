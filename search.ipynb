{
 "cells": [
  {
   "cell_type": "code",
   "execution_count": 340,
   "metadata": {},
   "outputs": [
    {
     "name": "stdout",
     "output_type": "stream",
     "text": [
      "The autoreload extension is already loaded. To reload it, use:\n",
      "  %reload_ext autoreload\n"
     ]
    }
   ],
   "source": [
    "import pandas as pd \n",
    "import numpy as np\n",
    "import helpers\n",
    "from datetime import date\n",
    "\n",
    "%load_ext autoreload\n",
    "%autoreload 2\n",
    "%matplotlib inline\n"
   ]
  },
  {
   "cell_type": "code",
   "execution_count": 341,
   "metadata": {},
   "outputs": [],
   "source": [
    "today = date(2020, 8, 16)"
   ]
  },
  {
   "cell_type": "code",
   "execution_count": 345,
   "metadata": {},
   "outputs": [],
   "source": [
    "#df = pd.read_clipboard()"
   ]
  },
  {
   "cell_type": "code",
   "execution_count": 361,
   "metadata": {},
   "outputs": [],
   "source": [
    "df = pd.read_csv('port.csv', index_col=0)"
   ]
  },
  {
   "cell_type": "code",
   "execution_count": 362,
   "metadata": {},
   "outputs": [],
   "source": [
    "#df.to_csv('port.csv')"
   ]
  },
  {
   "cell_type": "code",
   "execution_count": null,
   "metadata": {},
   "outputs": [],
   "source": []
  },
  {
   "cell_type": "code",
   "execution_count": 363,
   "metadata": {},
   "outputs": [
    {
     "data": {
      "text/html": [
       "<div>\n",
       "<style scoped>\n",
       "    .dataframe tbody tr th:only-of-type {\n",
       "        vertical-align: middle;\n",
       "    }\n",
       "\n",
       "    .dataframe tbody tr th {\n",
       "        vertical-align: top;\n",
       "    }\n",
       "\n",
       "    .dataframe thead th {\n",
       "        text-align: right;\n",
       "    }\n",
       "</style>\n",
       "<table border=\"1\" class=\"dataframe\">\n",
       "  <thead>\n",
       "    <tr style=\"text-align: right;\">\n",
       "      <th></th>\n",
       "      <th>Symbol</th>\n",
       "      <th>Description</th>\n",
       "      <th>Quantity</th>\n",
       "      <th>Price</th>\n",
       "      <th>Price Change $</th>\n",
       "      <th>Price Change %</th>\n",
       "      <th>Market Value</th>\n",
       "      <th>Day Change $</th>\n",
       "      <th>Day Change %</th>\n",
       "      <th>Cost Basis</th>\n",
       "      <th>Gain/Loss $</th>\n",
       "      <th>Gain/Loss %</th>\n",
       "    </tr>\n",
       "  </thead>\n",
       "  <tbody>\n",
       "    <tr>\n",
       "      <th>0</th>\n",
       "      <td>881609AZ4</td>\n",
       "      <td>ANDEAVOR 5.375%22 DUE 10/01/22</td>\n",
       "      <td>25,000</td>\n",
       "      <td>$100.63</td>\n",
       "      <td>NaN</td>\n",
       "      <td>NaN</td>\n",
       "      <td>$25,156.25</td>\n",
       "      <td>NaN</td>\n",
       "      <td>NaN</td>\n",
       "      <td>$25,352.14</td>\n",
       "      <td>-$195.89</td>\n",
       "      <td>-0.77%</td>\n",
       "    </tr>\n",
       "    <tr>\n",
       "      <th>1</th>\n",
       "      <td>774341AE1</td>\n",
       "      <td>COLLINS AEROSPACE 3.7%23 DUE 12/15/23</td>\n",
       "      <td>25,000</td>\n",
       "      <td>$108.74</td>\n",
       "      <td>NaN</td>\n",
       "      <td>NaN</td>\n",
       "      <td>$27,186.15</td>\n",
       "      <td>NaN</td>\n",
       "      <td>NaN</td>\n",
       "      <td>$24,806.50</td>\n",
       "      <td>$2,379.65</td>\n",
       "      <td>9.59%</td>\n",
       "    </tr>\n",
       "    <tr>\n",
       "      <th>2</th>\n",
       "      <td>212015AH4</td>\n",
       "      <td>CONTINENTAL RESOURC 5%22 DUE 09/15/22</td>\n",
       "      <td>10,000</td>\n",
       "      <td>$99.50</td>\n",
       "      <td>NaN</td>\n",
       "      <td>NaN</td>\n",
       "      <td>$9,950.00</td>\n",
       "      <td>NaN</td>\n",
       "      <td>NaN</td>\n",
       "      <td>$10,051.42</td>\n",
       "      <td>-$101.42</td>\n",
       "      <td>-1.01%</td>\n",
       "    </tr>\n",
       "    <tr>\n",
       "      <th>3</th>\n",
       "      <td>25278XAH2</td>\n",
       "      <td>DIAMONDBACK ENE 5.375%25 DUE 05/31/25</td>\n",
       "      <td>25,000</td>\n",
       "      <td>$103.88</td>\n",
       "      <td>NaN</td>\n",
       "      <td>NaN</td>\n",
       "      <td>$25,968.75</td>\n",
       "      <td>NaN</td>\n",
       "      <td>NaN</td>\n",
       "      <td>$26,267.98</td>\n",
       "      <td>-$299.23</td>\n",
       "      <td>-1.14%</td>\n",
       "    </tr>\n",
       "    <tr>\n",
       "      <th>4</th>\n",
       "      <td>30219GAQ1</td>\n",
       "      <td>EXPRESS SCRIPTS HOL 3%23 DUE 07/15/23</td>\n",
       "      <td>25,000</td>\n",
       "      <td>$105.35</td>\n",
       "      <td>NaN</td>\n",
       "      <td>NaN</td>\n",
       "      <td>$26,338.08</td>\n",
       "      <td>NaN</td>\n",
       "      <td>NaN</td>\n",
       "      <td>$24,053.00</td>\n",
       "      <td>$2,285.08</td>\n",
       "      <td>9.5%</td>\n",
       "    </tr>\n",
       "  </tbody>\n",
       "</table>\n",
       "</div>"
      ],
      "text/plain": [
       "      Symbol                            Description Quantity    Price  \\\n",
       "0  881609AZ4         ANDEAVOR 5.375%22 DUE 10/01/22   25,000  $100.63   \n",
       "1  774341AE1  COLLINS AEROSPACE 3.7%23 DUE 12/15/23   25,000  $108.74   \n",
       "2  212015AH4  CONTINENTAL RESOURC 5%22 DUE 09/15/22   10,000   $99.50   \n",
       "3  25278XAH2  DIAMONDBACK ENE 5.375%25 DUE 05/31/25   25,000  $103.88   \n",
       "4  30219GAQ1  EXPRESS SCRIPTS HOL 3%23 DUE 07/15/23   25,000  $105.35   \n",
       "\n",
       "   Price Change $  Price Change % Market Value  Day Change $  Day Change %  \\\n",
       "0             NaN             NaN   $25,156.25           NaN           NaN   \n",
       "1             NaN             NaN   $27,186.15           NaN           NaN   \n",
       "2             NaN             NaN    $9,950.00           NaN           NaN   \n",
       "3             NaN             NaN   $25,968.75           NaN           NaN   \n",
       "4             NaN             NaN   $26,338.08           NaN           NaN   \n",
       "\n",
       "   Cost Basis Gain/Loss $ Gain/Loss %  \n",
       "0  $25,352.14    -$195.89      -0.77%  \n",
       "1  $24,806.50   $2,379.65       9.59%  \n",
       "2  $10,051.42    -$101.42      -1.01%  \n",
       "3  $26,267.98    -$299.23      -1.14%  \n",
       "4  $24,053.00   $2,285.08        9.5%  "
      ]
     },
     "execution_count": 363,
     "metadata": {},
     "output_type": "execute_result"
    }
   ],
   "source": [
    "port = df\n",
    "port.head()"
   ]
  },
  {
   "cell_type": "code",
   "execution_count": 350,
   "metadata": {},
   "outputs": [],
   "source": [
    "port.drop(columns=['Price Change $', 'Price Change %', 'Day Change $', 'Day Change %'], inplace=True)"
   ]
  },
  {
   "cell_type": "code",
   "execution_count": 351,
   "metadata": {},
   "outputs": [
    {
     "data": {
      "text/html": [
       "<div>\n",
       "<style scoped>\n",
       "    .dataframe tbody tr th:only-of-type {\n",
       "        vertical-align: middle;\n",
       "    }\n",
       "\n",
       "    .dataframe tbody tr th {\n",
       "        vertical-align: top;\n",
       "    }\n",
       "\n",
       "    .dataframe thead th {\n",
       "        text-align: right;\n",
       "    }\n",
       "</style>\n",
       "<table border=\"1\" class=\"dataframe\">\n",
       "  <thead>\n",
       "    <tr style=\"text-align: right;\">\n",
       "      <th></th>\n",
       "      <th>Symbol</th>\n",
       "      <th>Description</th>\n",
       "      <th>Quantity</th>\n",
       "      <th>Price</th>\n",
       "      <th>Market Value</th>\n",
       "      <th>Cost Basis</th>\n",
       "      <th>Gain/Loss $</th>\n",
       "      <th>Gain/Loss %</th>\n",
       "    </tr>\n",
       "  </thead>\n",
       "  <tbody>\n",
       "    <tr>\n",
       "      <th>0</th>\n",
       "      <td>881609AZ4</td>\n",
       "      <td>ANDEAVOR 5.375%22 DUE 10/01/22</td>\n",
       "      <td>25,000</td>\n",
       "      <td>$100.63</td>\n",
       "      <td>$25,156.25</td>\n",
       "      <td>$25,352.14</td>\n",
       "      <td>-$195.89</td>\n",
       "      <td>-0.77%</td>\n",
       "    </tr>\n",
       "    <tr>\n",
       "      <th>1</th>\n",
       "      <td>774341AE1</td>\n",
       "      <td>COLLINS AEROSPACE 3.7%23 DUE 12/15/23</td>\n",
       "      <td>25,000</td>\n",
       "      <td>$108.74</td>\n",
       "      <td>$27,186.15</td>\n",
       "      <td>$24,806.50</td>\n",
       "      <td>$2,379.65</td>\n",
       "      <td>9.59%</td>\n",
       "    </tr>\n",
       "    <tr>\n",
       "      <th>2</th>\n",
       "      <td>212015AH4</td>\n",
       "      <td>CONTINENTAL RESOURC 5%22 DUE 09/15/22</td>\n",
       "      <td>10,000</td>\n",
       "      <td>$99.50</td>\n",
       "      <td>$9,950.00</td>\n",
       "      <td>$10,051.42</td>\n",
       "      <td>-$101.42</td>\n",
       "      <td>-1.01%</td>\n",
       "    </tr>\n",
       "    <tr>\n",
       "      <th>3</th>\n",
       "      <td>25278XAH2</td>\n",
       "      <td>DIAMONDBACK ENE 5.375%25 DUE 05/31/25</td>\n",
       "      <td>25,000</td>\n",
       "      <td>$103.88</td>\n",
       "      <td>$25,968.75</td>\n",
       "      <td>$26,267.98</td>\n",
       "      <td>-$299.23</td>\n",
       "      <td>-1.14%</td>\n",
       "    </tr>\n",
       "    <tr>\n",
       "      <th>4</th>\n",
       "      <td>30219GAQ1</td>\n",
       "      <td>EXPRESS SCRIPTS HOL 3%23 DUE 07/15/23</td>\n",
       "      <td>25,000</td>\n",
       "      <td>$105.35</td>\n",
       "      <td>$26,338.08</td>\n",
       "      <td>$24,053.00</td>\n",
       "      <td>$2,285.08</td>\n",
       "      <td>9.5%</td>\n",
       "    </tr>\n",
       "  </tbody>\n",
       "</table>\n",
       "</div>"
      ],
      "text/plain": [
       "      Symbol                            Description Quantity    Price  \\\n",
       "0  881609AZ4         ANDEAVOR 5.375%22 DUE 10/01/22   25,000  $100.63   \n",
       "1  774341AE1  COLLINS AEROSPACE 3.7%23 DUE 12/15/23   25,000  $108.74   \n",
       "2  212015AH4  CONTINENTAL RESOURC 5%22 DUE 09/15/22   10,000   $99.50   \n",
       "3  25278XAH2  DIAMONDBACK ENE 5.375%25 DUE 05/31/25   25,000  $103.88   \n",
       "4  30219GAQ1  EXPRESS SCRIPTS HOL 3%23 DUE 07/15/23   25,000  $105.35   \n",
       "\n",
       "  Market Value  Cost Basis Gain/Loss $ Gain/Loss %  \n",
       "0   $25,156.25  $25,352.14    -$195.89      -0.77%  \n",
       "1   $27,186.15  $24,806.50   $2,379.65       9.59%  \n",
       "2    $9,950.00  $10,051.42    -$101.42      -1.01%  \n",
       "3   $25,968.75  $26,267.98    -$299.23      -1.14%  \n",
       "4   $26,338.08  $24,053.00   $2,285.08        9.5%  "
      ]
     },
     "execution_count": 351,
     "metadata": {},
     "output_type": "execute_result"
    }
   ],
   "source": [
    "port.head()"
   ]
  },
  {
   "cell_type": "code",
   "execution_count": 352,
   "metadata": {},
   "outputs": [],
   "source": [
    "port['Maturity'] = port['Description'].str[-8:]"
   ]
  },
  {
   "cell_type": "raw",
   "metadata": {},
   "source": [
    "def extract_coupon(description):\n",
    "    coupon = ''\n",
    "    for s in range(len(description)):\n",
    "        if description[s].isnumeric() or description[s] == '.':\n",
    "            coupon =  coupon + description[s]\n",
    "            #print(c)\n",
    "        if description[s] == '%':\n",
    "            break \n",
    "    try:\n",
    "        float(coupon)\n",
    "    except:\n",
    "        coupon = coupon[1:]\n",
    "        float(coupon)\n",
    "    return coupon"
   ]
  },
  {
   "cell_type": "code",
   "execution_count": 353,
   "metadata": {},
   "outputs": [],
   "source": [
    "port['Coupon'] = port['Description'].apply(lambda x: helpers.extract_coupon(x))"
   ]
  },
  {
   "cell_type": "code",
   "execution_count": 354,
   "metadata": {},
   "outputs": [],
   "source": [
    "port['Maturity'] = pd.to_datetime(port['Maturity'])"
   ]
  },
  {
   "cell_type": "code",
   "execution_count": 356,
   "metadata": {},
   "outputs": [
    {
     "ename": "TypeError",
     "evalue": "unsupported operand type(s) for -: 'DatetimeIndex' and 'datetime.date'",
     "output_type": "error",
     "traceback": [
      "\u001b[0;31m---------------------------------------------------------------------------\u001b[0m",
      "\u001b[0;31mTypeError\u001b[0m                                 Traceback (most recent call last)",
      "\u001b[0;32m<ipython-input-356-30f7d15bfbae>\u001b[0m in \u001b[0;36m<module>\u001b[0;34m\u001b[0m\n\u001b[0;32m----> 1\u001b[0;31m \u001b[0mport\u001b[0m\u001b[0;34m[\u001b[0m\u001b[0;34m'Days_left'\u001b[0m\u001b[0;34m]\u001b[0m \u001b[0;34m=\u001b[0m \u001b[0mport\u001b[0m\u001b[0;34m[\u001b[0m\u001b[0;34m'Maturity'\u001b[0m\u001b[0;34m]\u001b[0m \u001b[0;34m-\u001b[0m \u001b[0mtoday\u001b[0m\u001b[0;34m\u001b[0m\u001b[0;34m\u001b[0m\u001b[0m\n\u001b[0m",
      "\u001b[0;32m/anaconda3/lib/python3.7/site-packages/pandas/core/ops.py\u001b[0m in \u001b[0;36mwrapper\u001b[0;34m(left, right)\u001b[0m\n\u001b[1;32m   1550\u001b[0m             \u001b[0;31m# test_dt64_series_add_intlike, which the index dispatching handles\u001b[0m\u001b[0;34m\u001b[0m\u001b[0;34m\u001b[0m\u001b[0;34m\u001b[0m\u001b[0m\n\u001b[1;32m   1551\u001b[0m             \u001b[0;31m# specifically.\u001b[0m\u001b[0;34m\u001b[0m\u001b[0;34m\u001b[0m\u001b[0;34m\u001b[0m\u001b[0m\n\u001b[0;32m-> 1552\u001b[0;31m             \u001b[0mresult\u001b[0m \u001b[0;34m=\u001b[0m \u001b[0mdispatch_to_index_op\u001b[0m\u001b[0;34m(\u001b[0m\u001b[0mop\u001b[0m\u001b[0;34m,\u001b[0m \u001b[0mleft\u001b[0m\u001b[0;34m,\u001b[0m \u001b[0mright\u001b[0m\u001b[0;34m,\u001b[0m \u001b[0mpd\u001b[0m\u001b[0;34m.\u001b[0m\u001b[0mDatetimeIndex\u001b[0m\u001b[0;34m)\u001b[0m\u001b[0;34m\u001b[0m\u001b[0;34m\u001b[0m\u001b[0m\n\u001b[0m\u001b[1;32m   1553\u001b[0m             return construct_result(left, result,\n\u001b[1;32m   1554\u001b[0m                                     \u001b[0mindex\u001b[0m\u001b[0;34m=\u001b[0m\u001b[0mleft\u001b[0m\u001b[0;34m.\u001b[0m\u001b[0mindex\u001b[0m\u001b[0;34m,\u001b[0m \u001b[0mname\u001b[0m\u001b[0;34m=\u001b[0m\u001b[0mres_name\u001b[0m\u001b[0;34m,\u001b[0m\u001b[0;34m\u001b[0m\u001b[0;34m\u001b[0m\u001b[0m\n",
      "\u001b[0;32m/anaconda3/lib/python3.7/site-packages/pandas/core/ops.py\u001b[0m in \u001b[0;36mdispatch_to_index_op\u001b[0;34m(op, left, right, index_class)\u001b[0m\n\u001b[1;32m   1189\u001b[0m         \u001b[0mleft_idx\u001b[0m \u001b[0;34m=\u001b[0m \u001b[0mleft_idx\u001b[0m\u001b[0;34m.\u001b[0m\u001b[0m_shallow_copy\u001b[0m\u001b[0;34m(\u001b[0m\u001b[0mfreq\u001b[0m\u001b[0;34m=\u001b[0m\u001b[0;32mNone\u001b[0m\u001b[0;34m)\u001b[0m\u001b[0;34m\u001b[0m\u001b[0;34m\u001b[0m\u001b[0m\n\u001b[1;32m   1190\u001b[0m     \u001b[0;32mtry\u001b[0m\u001b[0;34m:\u001b[0m\u001b[0;34m\u001b[0m\u001b[0;34m\u001b[0m\u001b[0m\n\u001b[0;32m-> 1191\u001b[0;31m         \u001b[0mresult\u001b[0m \u001b[0;34m=\u001b[0m \u001b[0mop\u001b[0m\u001b[0;34m(\u001b[0m\u001b[0mleft_idx\u001b[0m\u001b[0;34m,\u001b[0m \u001b[0mright\u001b[0m\u001b[0;34m)\u001b[0m\u001b[0;34m\u001b[0m\u001b[0;34m\u001b[0m\u001b[0m\n\u001b[0m\u001b[1;32m   1192\u001b[0m     \u001b[0;32mexcept\u001b[0m \u001b[0mNullFrequencyError\u001b[0m\u001b[0;34m:\u001b[0m\u001b[0;34m\u001b[0m\u001b[0;34m\u001b[0m\u001b[0m\n\u001b[1;32m   1193\u001b[0m         \u001b[0;31m# DatetimeIndex and TimedeltaIndex with freq == None raise ValueError\u001b[0m\u001b[0;34m\u001b[0m\u001b[0;34m\u001b[0m\u001b[0;34m\u001b[0m\u001b[0m\n",
      "\u001b[0;31mTypeError\u001b[0m: unsupported operand type(s) for -: 'DatetimeIndex' and 'datetime.date'"
     ]
    }
   ],
   "source": [
    "port['Days_left'] = port['Maturity'] - today"
   ]
  },
  {
   "cell_type": "code",
   "execution_count": null,
   "metadata": {},
   "outputs": [],
   "source": []
  },
  {
   "cell_type": "code",
   "execution_count": null,
   "metadata": {},
   "outputs": [],
   "source": []
  }
 ],
 "metadata": {
  "kernelspec": {
   "display_name": "Python 3",
   "language": "python",
   "name": "python3"
  },
  "language_info": {
   "codemirror_mode": {
    "name": "ipython",
    "version": 3
   },
   "file_extension": ".py",
   "mimetype": "text/x-python",
   "name": "python",
   "nbconvert_exporter": "python",
   "pygments_lexer": "ipython3",
   "version": "3.7.3"
  }
 },
 "nbformat": 4,
 "nbformat_minor": 2
}
